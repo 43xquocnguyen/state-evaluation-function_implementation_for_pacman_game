{
 "cells": [
  {
   "cell_type": "code",
   "execution_count": 11,
   "id": "2fb17f88-9994-47ac-bc45-cdb6e7789556",
   "metadata": {},
   "outputs": [],
   "source": [
    "library(ggplot2)\n",
    "library(dplyr)"
   ]
  },
  {
   "cell_type": "code",
   "execution_count": 36,
   "id": "3ed8d6a6-48c4-4016-aece-cf87adfcf541",
   "metadata": {},
   "outputs": [
    {
     "data": {
      "text/html": [
       "<table>\n",
       "<thead><tr><th scope=col>evalFun</th><th scope=col>map</th><th scope=col>algorithm</th><th scope=col>depth</th><th scope=col>isWin</th><th scope=col>score</th></tr></thead>\n",
       "<tbody>\n",
       "\t<tr><td>0              </td><td>contestClassic </td><td>Minimax        </td><td>3              </td><td>0              </td><td>  30           </td></tr>\n",
       "\t<tr><td>0              </td><td>mediumClassic  </td><td>Minimax        </td><td>3              </td><td>1              </td><td>1118           </td></tr>\n",
       "\t<tr><td>0              </td><td>minimaxClassic </td><td>Minimax        </td><td>3              </td><td>0              </td><td>-494           </td></tr>\n",
       "\t<tr><td>0              </td><td>originalClassic</td><td>Minimax        </td><td>3              </td><td>0              </td><td> 320           </td></tr>\n",
       "\t<tr><td>0              </td><td>powerClassic   </td><td>Minimax        </td><td>3              </td><td>1              </td><td>2342           </td></tr>\n",
       "\t<tr><td>0              </td><td>smallClassic   </td><td>Minimax        </td><td>3              </td><td>1              </td><td> 972           </td></tr>\n",
       "</tbody>\n",
       "</table>\n"
      ],
      "text/latex": [
       "\\begin{tabular}{r|llllll}\n",
       " evalFun & map & algorithm & depth & isWin & score\\\\\n",
       "\\hline\n",
       "\t 0               & contestClassic  & Minimax         & 3               & 0               &   30           \\\\\n",
       "\t 0               & mediumClassic   & Minimax         & 3               & 1               & 1118           \\\\\n",
       "\t 0               & minimaxClassic  & Minimax         & 3               & 0               & -494           \\\\\n",
       "\t 0               & originalClassic & Minimax         & 3               & 0               &  320           \\\\\n",
       "\t 0               & powerClassic    & Minimax         & 3               & 1               & 2342           \\\\\n",
       "\t 0               & smallClassic    & Minimax         & 3               & 1               &  972           \\\\\n",
       "\\end{tabular}\n"
      ],
      "text/markdown": [
       "\n",
       "| evalFun | map | algorithm | depth | isWin | score |\n",
       "|---|---|---|---|---|---|\n",
       "| 0               | contestClassic  | Minimax         | 3               | 0               |   30            |\n",
       "| 0               | mediumClassic   | Minimax         | 3               | 1               | 1118            |\n",
       "| 0               | minimaxClassic  | Minimax         | 3               | 0               | -494            |\n",
       "| 0               | originalClassic | Minimax         | 3               | 0               |  320            |\n",
       "| 0               | powerClassic    | Minimax         | 3               | 1               | 2342            |\n",
       "| 0               | smallClassic    | Minimax         | 3               | 1               |  972            |\n",
       "\n"
      ],
      "text/plain": [
       "  evalFun map             algorithm depth isWin score\n",
       "1 0       contestClassic  Minimax   3     0       30 \n",
       "2 0       mediumClassic   Minimax   3     1     1118 \n",
       "3 0       minimaxClassic  Minimax   3     0     -494 \n",
       "4 0       originalClassic Minimax   3     0      320 \n",
       "5 0       powerClassic    Minimax   3     1     2342 \n",
       "6 0       smallClassic    Minimax   3     1      972 "
      ]
     },
     "metadata": {},
     "output_type": "display_data"
    }
   ],
   "source": [
    "re <- read.csv('result.csv')\n",
    "head(re)"
   ]
  },
  {
   "cell_type": "code",
   "execution_count": 32,
   "id": "a293bda1-6cfa-413a-9d71-eaec790a899d",
   "metadata": {},
   "outputs": [
    {
     "data": {
      "text/html": [
       "<table>\n",
       "<thead><tr><th scope=col>algorithm</th><th scope=col>winningPercent</th><th scope=col>meanScore</th></tr></thead>\n",
       "<tbody>\n",
       "\t<tr><td>AlphaBeta </td><td>0.5000    </td><td>650.1875  </td></tr>\n",
       "\t<tr><td>Expectimax</td><td>0.8125    </td><td>959.4375  </td></tr>\n",
       "\t<tr><td>Minimax   </td><td>0.5000    </td><td>650.1875  </td></tr>\n",
       "</tbody>\n",
       "</table>\n"
      ],
      "text/latex": [
       "\\begin{tabular}{r|lll}\n",
       " algorithm & winningPercent & meanScore\\\\\n",
       "\\hline\n",
       "\t AlphaBeta  & 0.5000     & 650.1875  \\\\\n",
       "\t Expectimax & 0.8125     & 959.4375  \\\\\n",
       "\t Minimax    & 0.5000     & 650.1875  \\\\\n",
       "\\end{tabular}\n"
      ],
      "text/markdown": [
       "\n",
       "| algorithm | winningPercent | meanScore |\n",
       "|---|---|---|\n",
       "| AlphaBeta  | 0.5000     | 650.1875   |\n",
       "| Expectimax | 0.8125     | 959.4375   |\n",
       "| Minimax    | 0.5000     | 650.1875   |\n",
       "\n"
      ],
      "text/plain": [
       "  algorithm  winningPercent meanScore\n",
       "1 AlphaBeta  0.5000         650.1875 \n",
       "2 Expectimax 0.8125         959.4375 \n",
       "3 Minimax    0.5000         650.1875 "
      ]
     },
     "metadata": {},
     "output_type": "display_data"
    }
   ],
   "source": [
    "re %>% group_by(algorithm) %>% summarize(\n",
    "    winningPercent = mean(isWin, na.rm=TRUE),\n",
    "    meanScore = mean(score, na.rm=TRUE),\n",
    ")"
   ]
  },
  {
   "cell_type": "code",
   "execution_count": 43,
   "id": "ffa324d9-fc58-45ce-a23d-56994c4d2ccc",
   "metadata": {},
   "outputs": [],
   "source": [
    "a <- re %>% filter(evalFun == 0)\n",
    "b <- re %>% filter(evalFun == 1)"
   ]
  },
  {
   "cell_type": "code",
   "execution_count": 44,
   "id": "62513231-65e0-4da4-b0ff-c45f273a3dba",
   "metadata": {},
   "outputs": [
    {
     "name": "stderr",
     "output_type": "stream",
     "text": [
      "Warning message in b$score - a$score:\n",
      "\"longer object length is not a multiple of shorter object length\""
     ]
    },
    {
     "data": {
      "text/html": [
       "<ol class=list-inline>\n",
       "\t<li>-149</li>\n",
       "\t<li>-1420</li>\n",
       "\t<li>2</li>\n",
       "\t<li>1769</li>\n",
       "\t<li>-1337</li>\n",
       "\t<li>775</li>\n",
       "\t<li>2</li>\n",
       "\t<li>-1</li>\n",
       "\t<li>-149</li>\n",
       "\t<li>-1420</li>\n",
       "\t<li>2</li>\n",
       "\t<li>1769</li>\n",
       "\t<li>-1337</li>\n",
       "\t<li>775</li>\n",
       "\t<li>2</li>\n",
       "\t<li>-1</li>\n",
       "\t<li>2099</li>\n",
       "\t<li>818</li>\n",
       "\t<li>3</li>\n",
       "\t<li>-269</li>\n",
       "\t<li>-1362</li>\n",
       "\t<li>-423</li>\n",
       "\t<li>-30</li>\n",
       "\t<li>-651</li>\n",
       "</ol>\n"
      ],
      "text/latex": [
       "\\begin{enumerate*}\n",
       "\\item -149\n",
       "\\item -1420\n",
       "\\item 2\n",
       "\\item 1769\n",
       "\\item -1337\n",
       "\\item 775\n",
       "\\item 2\n",
       "\\item -1\n",
       "\\item -149\n",
       "\\item -1420\n",
       "\\item 2\n",
       "\\item 1769\n",
       "\\item -1337\n",
       "\\item 775\n",
       "\\item 2\n",
       "\\item -1\n",
       "\\item 2099\n",
       "\\item 818\n",
       "\\item 3\n",
       "\\item -269\n",
       "\\item -1362\n",
       "\\item -423\n",
       "\\item -30\n",
       "\\item -651\n",
       "\\end{enumerate*}\n"
      ],
      "text/markdown": [
       "1. -149\n",
       "2. -1420\n",
       "3. 2\n",
       "4. 1769\n",
       "5. -1337\n",
       "6. 775\n",
       "7. 2\n",
       "8. -1\n",
       "9. -149\n",
       "10. -1420\n",
       "11. 2\n",
       "12. 1769\n",
       "13. -1337\n",
       "14. 775\n",
       "15. 2\n",
       "16. -1\n",
       "17. 2099\n",
       "18. 818\n",
       "19. 3\n",
       "20. -269\n",
       "21. -1362\n",
       "22. -423\n",
       "23. -30\n",
       "24. -651\n",
       "\n",
       "\n"
      ],
      "text/plain": [
       " [1]  -149 -1420     2  1769 -1337   775     2    -1  -149 -1420     2  1769\n",
       "[13] -1337   775     2    -1  2099   818     3  -269 -1362  -423   -30  -651"
      ]
     },
     "metadata": {},
     "output_type": "display_data"
    }
   ],
   "source": [
    "b$score - a$score"
   ]
  }
 ],
 "metadata": {
  "kernelspec": {
   "display_name": "Python 3 (ipykernel)",
   "language": "python",
   "name": "python3"
  },
  "language_info": {
   "codemirror_mode": {
    "name": "ipython",
    "version": 3
   },
   "file_extension": ".py",
   "mimetype": "text/x-python",
   "name": "python",
   "nbconvert_exporter": "python",
   "pygments_lexer": "ipython3",
   "version": "3.9.7"
  }
 },
 "nbformat": 4,
 "nbformat_minor": 5
}
