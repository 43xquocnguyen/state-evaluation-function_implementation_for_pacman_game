{
 "cells": [
  {
   "cell_type": "code",
   "execution_count": 11,
   "id": "2fb17f88-9994-47ac-bc45-cdb6e7789556",
   "metadata": {},
   "outputs": [],
   "source": [
    "library(ggplot2)\n",
    "library(dplyr)"
   ]
  },
  {
   "cell_type": "code",
   "execution_count": 25,
   "id": "3ed8d6a6-48c4-4016-aece-cf87adfcf541",
   "metadata": {},
   "outputs": [
    {
     "data": {
      "text/html": [
       "<table>\n",
       "<thead><tr><th scope=col>evalFun</th><th scope=col>map</th><th scope=col>algorithm</th><th scope=col>depth</th><th scope=col>isWin</th><th scope=col>score</th></tr></thead>\n",
       "<tbody>\n",
       "\t<tr><td>0              </td><td>contestClassic </td><td>Minimax        </td><td>3              </td><td>0              </td><td>  30           </td></tr>\n",
       "\t<tr><td>0              </td><td>mediumClassic  </td><td>Minimax        </td><td>3              </td><td>1              </td><td>1118           </td></tr>\n",
       "\t<tr><td>0              </td><td>minimaxClassic </td><td>Minimax        </td><td>3              </td><td>0              </td><td>-494           </td></tr>\n",
       "\t<tr><td>0              </td><td>originalClassic</td><td>Minimax        </td><td>3              </td><td>0              </td><td> 320           </td></tr>\n",
       "\t<tr><td>0              </td><td>powerClassic   </td><td>Minimax        </td><td>3              </td><td>1              </td><td>2342           </td></tr>\n",
       "\t<tr><td>0              </td><td>smallClassic   </td><td>Minimax        </td><td>3              </td><td>1              </td><td> 972           </td></tr>\n",
       "</tbody>\n",
       "</table>\n"
      ],
      "text/latex": [
       "\\begin{tabular}{r|llllll}\n",
       " evalFun & map & algorithm & depth & isWin & score\\\\\n",
       "\\hline\n",
       "\t 0               & contestClassic  & Minimax         & 3               & 0               &   30           \\\\\n",
       "\t 0               & mediumClassic   & Minimax         & 3               & 1               & 1118           \\\\\n",
       "\t 0               & minimaxClassic  & Minimax         & 3               & 0               & -494           \\\\\n",
       "\t 0               & originalClassic & Minimax         & 3               & 0               &  320           \\\\\n",
       "\t 0               & powerClassic    & Minimax         & 3               & 1               & 2342           \\\\\n",
       "\t 0               & smallClassic    & Minimax         & 3               & 1               &  972           \\\\\n",
       "\\end{tabular}\n"
      ],
      "text/markdown": [
       "\n",
       "| evalFun | map | algorithm | depth | isWin | score |\n",
       "|---|---|---|---|---|---|\n",
       "| 0               | contestClassic  | Minimax         | 3               | 0               |   30            |\n",
       "| 0               | mediumClassic   | Minimax         | 3               | 1               | 1118            |\n",
       "| 0               | minimaxClassic  | Minimax         | 3               | 0               | -494            |\n",
       "| 0               | originalClassic | Minimax         | 3               | 0               |  320            |\n",
       "| 0               | powerClassic    | Minimax         | 3               | 1               | 2342            |\n",
       "| 0               | smallClassic    | Minimax         | 3               | 1               |  972            |\n",
       "\n"
      ],
      "text/plain": [
       "  evalFun map             algorithm depth isWin score\n",
       "1 0       contestClassic  Minimax   3     0       30 \n",
       "2 0       mediumClassic   Minimax   3     1     1118 \n",
       "3 0       minimaxClassic  Minimax   3     0     -494 \n",
       "4 0       originalClassic Minimax   3     0      320 \n",
       "5 0       powerClassic    Minimax   3     1     2342 \n",
       "6 0       smallClassic    Minimax   3     1      972 "
      ]
     },
     "metadata": {},
     "output_type": "display_data"
    }
   ],
   "source": [
    "re <- read.csv('result.csv')\n",
    "head(re)"
   ]
  },
  {
   "cell_type": "code",
   "execution_count": 24,
   "id": "a293bda1-6cfa-413a-9d71-eaec790a899d",
   "metadata": {},
   "outputs": [
    {
     "data": {
      "text/html": [
       "<table>\n",
       "<thead><tr><th scope=col>evalFun</th><th scope=col>meanScore</th></tr></thead>\n",
       "<tbody>\n",
       "\t<tr><td>0       </td><td>733.2500</td></tr>\n",
       "\t<tr><td>1       </td><td>773.2917</td></tr>\n",
       "</tbody>\n",
       "</table>\n"
      ],
      "text/latex": [
       "\\begin{tabular}{r|ll}\n",
       " evalFun & meanScore\\\\\n",
       "\\hline\n",
       "\t 0        & 733.2500\\\\\n",
       "\t 1        & 773.2917\\\\\n",
       "\\end{tabular}\n"
      ],
      "text/markdown": [
       "\n",
       "| evalFun | meanScore |\n",
       "|---|---|\n",
       "| 0        | 733.2500 |\n",
       "| 1        | 773.2917 |\n",
       "\n"
      ],
      "text/plain": [
       "  evalFun meanScore\n",
       "1 0       733.2500 \n",
       "2 1       773.2917 "
      ]
     },
     "metadata": {},
     "output_type": "display_data"
    }
   ],
   "source": [
    "re %>% group_by(evalFun) %>% summarize(meanScore = mean(score, na.rm=TRUE))"
   ]
  }
 ],
 "metadata": {
  "kernelspec": {
   "display_name": "R",
   "language": "R",
   "name": "ir"
  },
  "language_info": {
   "codemirror_mode": "r",
   "file_extension": ".r",
   "mimetype": "text/x-r-source",
   "name": "R",
   "pygments_lexer": "r",
   "version": "3.6.1"
  }
 },
 "nbformat": 4,
 "nbformat_minor": 5
}
